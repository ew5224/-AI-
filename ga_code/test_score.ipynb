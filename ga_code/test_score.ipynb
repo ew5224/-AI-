{
 "cells": [
  {
   "cell_type": "code",
   "execution_count": 9,
   "metadata": {},
   "outputs": [],
   "source": [
    "import pandas as pd\n",
    "import numpy as np\n",
    "from module.genome import Genome, genome_score\n",
    "from module.simulator import Simulator\n",
    "np.random.seed(777)"
   ]
  },
  {
   "cell_type": "code",
   "execution_count": 15,
   "metadata": {},
   "outputs": [],
   "source": [
    "df = pd.read_csv(\"Submission_ver_3.csv\")"
   ]
  },
  {
   "cell_type": "code",
   "execution_count": 16,
   "metadata": {},
   "outputs": [
    {
     "data": {
      "text/html": [
       "<div>\n",
       "<style scoped>\n",
       "    .dataframe tbody tr th:only-of-type {\n",
       "        vertical-align: middle;\n",
       "    }\n",
       "\n",
       "    .dataframe tbody tr th {\n",
       "        vertical-align: top;\n",
       "    }\n",
       "\n",
       "    .dataframe thead th {\n",
       "        text-align: right;\n",
       "    }\n",
       "</style>\n",
       "<table border=\"1\" class=\"dataframe\">\n",
       "  <thead>\n",
       "    <tr style=\"text-align: right;\">\n",
       "      <th></th>\n",
       "      <th>time</th>\n",
       "      <th>PRT_1</th>\n",
       "      <th>PRT_2</th>\n",
       "      <th>PRT_3</th>\n",
       "      <th>PRT_4</th>\n",
       "      <th>Event_A</th>\n",
       "      <th>MOL_A</th>\n",
       "      <th>Event_B</th>\n",
       "      <th>MOL_B</th>\n",
       "    </tr>\n",
       "  </thead>\n",
       "  <tbody>\n",
       "    <tr>\n",
       "      <th>0</th>\n",
       "      <td>2020-04-01 00:00:00</td>\n",
       "      <td>0</td>\n",
       "      <td>0</td>\n",
       "      <td>2</td>\n",
       "      <td>2</td>\n",
       "      <td>CHECK_3</td>\n",
       "      <td>0.0</td>\n",
       "      <td>CHECK_4</td>\n",
       "      <td>0.0</td>\n",
       "    </tr>\n",
       "    <tr>\n",
       "      <th>1</th>\n",
       "      <td>2020-04-01 01:00:00</td>\n",
       "      <td>0</td>\n",
       "      <td>0</td>\n",
       "      <td>2</td>\n",
       "      <td>2</td>\n",
       "      <td>CHECK_3</td>\n",
       "      <td>0.0</td>\n",
       "      <td>CHECK_4</td>\n",
       "      <td>0.0</td>\n",
       "    </tr>\n",
       "    <tr>\n",
       "      <th>2</th>\n",
       "      <td>2020-04-01 02:00:00</td>\n",
       "      <td>0</td>\n",
       "      <td>0</td>\n",
       "      <td>2</td>\n",
       "      <td>2</td>\n",
       "      <td>CHECK_3</td>\n",
       "      <td>0.0</td>\n",
       "      <td>CHECK_4</td>\n",
       "      <td>0.0</td>\n",
       "    </tr>\n",
       "    <tr>\n",
       "      <th>3</th>\n",
       "      <td>2020-04-01 03:00:00</td>\n",
       "      <td>0</td>\n",
       "      <td>0</td>\n",
       "      <td>2</td>\n",
       "      <td>2</td>\n",
       "      <td>CHECK_3</td>\n",
       "      <td>0.0</td>\n",
       "      <td>CHECK_4</td>\n",
       "      <td>0.0</td>\n",
       "    </tr>\n",
       "    <tr>\n",
       "      <th>4</th>\n",
       "      <td>2020-04-01 04:00:00</td>\n",
       "      <td>0</td>\n",
       "      <td>0</td>\n",
       "      <td>2</td>\n",
       "      <td>2</td>\n",
       "      <td>CHECK_3</td>\n",
       "      <td>0.0</td>\n",
       "      <td>CHECK_4</td>\n",
       "      <td>0.0</td>\n",
       "    </tr>\n",
       "    <tr>\n",
       "      <th>...</th>\n",
       "      <td>...</td>\n",
       "      <td>...</td>\n",
       "      <td>...</td>\n",
       "      <td>...</td>\n",
       "      <td>...</td>\n",
       "      <td>...</td>\n",
       "      <td>...</td>\n",
       "      <td>...</td>\n",
       "      <td>...</td>\n",
       "    </tr>\n",
       "    <tr>\n",
       "      <th>2179</th>\n",
       "      <td>2020-06-30 19:00:00</td>\n",
       "      <td>0</td>\n",
       "      <td>0</td>\n",
       "      <td>0</td>\n",
       "      <td>0</td>\n",
       "      <td>CHECK_4</td>\n",
       "      <td>0.0</td>\n",
       "      <td>PROCESS</td>\n",
       "      <td>3.2</td>\n",
       "    </tr>\n",
       "    <tr>\n",
       "      <th>2180</th>\n",
       "      <td>2020-06-30 20:00:00</td>\n",
       "      <td>0</td>\n",
       "      <td>0</td>\n",
       "      <td>0</td>\n",
       "      <td>0</td>\n",
       "      <td>CHECK_4</td>\n",
       "      <td>0.0</td>\n",
       "      <td>PROCESS</td>\n",
       "      <td>3.2</td>\n",
       "    </tr>\n",
       "    <tr>\n",
       "      <th>2181</th>\n",
       "      <td>2020-06-30 21:00:00</td>\n",
       "      <td>0</td>\n",
       "      <td>0</td>\n",
       "      <td>0</td>\n",
       "      <td>0</td>\n",
       "      <td>CHECK_4</td>\n",
       "      <td>0.0</td>\n",
       "      <td>PROCESS</td>\n",
       "      <td>3.2</td>\n",
       "    </tr>\n",
       "    <tr>\n",
       "      <th>2182</th>\n",
       "      <td>2020-06-30 22:00:00</td>\n",
       "      <td>0</td>\n",
       "      <td>0</td>\n",
       "      <td>0</td>\n",
       "      <td>0</td>\n",
       "      <td>CHECK_4</td>\n",
       "      <td>0.0</td>\n",
       "      <td>PROCESS</td>\n",
       "      <td>3.2</td>\n",
       "    </tr>\n",
       "    <tr>\n",
       "      <th>2183</th>\n",
       "      <td>2020-06-30 23:00:00</td>\n",
       "      <td>0</td>\n",
       "      <td>0</td>\n",
       "      <td>0</td>\n",
       "      <td>0</td>\n",
       "      <td>CHECK_4</td>\n",
       "      <td>0.0</td>\n",
       "      <td>PROCESS</td>\n",
       "      <td>3.2</td>\n",
       "    </tr>\n",
       "  </tbody>\n",
       "</table>\n",
       "<p>2184 rows × 9 columns</p>\n",
       "</div>"
      ],
      "text/plain": [
       "                     time  PRT_1  PRT_2  PRT_3  PRT_4  Event_A  MOL_A  \\\n",
       "0     2020-04-01 00:00:00      0      0      2      2  CHECK_3    0.0   \n",
       "1     2020-04-01 01:00:00      0      0      2      2  CHECK_3    0.0   \n",
       "2     2020-04-01 02:00:00      0      0      2      2  CHECK_3    0.0   \n",
       "3     2020-04-01 03:00:00      0      0      2      2  CHECK_3    0.0   \n",
       "4     2020-04-01 04:00:00      0      0      2      2  CHECK_3    0.0   \n",
       "...                   ...    ...    ...    ...    ...      ...    ...   \n",
       "2179  2020-06-30 19:00:00      0      0      0      0  CHECK_4    0.0   \n",
       "2180  2020-06-30 20:00:00      0      0      0      0  CHECK_4    0.0   \n",
       "2181  2020-06-30 21:00:00      0      0      0      0  CHECK_4    0.0   \n",
       "2182  2020-06-30 22:00:00      0      0      0      0  CHECK_4    0.0   \n",
       "2183  2020-06-30 23:00:00      0      0      0      0  CHECK_4    0.0   \n",
       "\n",
       "      Event_B  MOL_B  \n",
       "0     CHECK_4    0.0  \n",
       "1     CHECK_4    0.0  \n",
       "2     CHECK_4    0.0  \n",
       "3     CHECK_4    0.0  \n",
       "4     CHECK_4    0.0  \n",
       "...       ...    ...  \n",
       "2179  PROCESS    3.2  \n",
       "2180  PROCESS    3.2  \n",
       "2181  PROCESS    3.2  \n",
       "2182  PROCESS    3.2  \n",
       "2183  PROCESS    3.2  \n",
       "\n",
       "[2184 rows x 9 columns]"
      ]
     },
     "execution_count": 16,
     "metadata": {},
     "output_type": "execute_result"
    }
   ],
   "source": [
    "df"
   ]
  },
  {
   "cell_type": "code",
   "execution_count": 17,
   "metadata": {},
   "outputs": [],
   "source": [
    "simulator = Simulator()"
   ]
  },
  {
   "cell_type": "code",
   "execution_count": 18,
   "metadata": {},
   "outputs": [
    {
     "name": "stdout",
     "output_type": "stream",
     "text": [
      "stop_time : 0    count : 0\n"
     ]
    }
   ],
   "source": [
    "_, df_stock = simulator.get_score(df)"
   ]
  },
  {
   "cell_type": "code",
   "execution_count": 19,
   "metadata": {},
   "outputs": [
    {
     "data": {
      "text/plain": [
       "63.988818718293814"
      ]
     },
     "execution_count": 19,
     "metadata": {},
     "output_type": "execute_result"
    }
   ],
   "source": [
    "_"
   ]
  }
 ],
 "metadata": {
  "kernelspec": {
   "display_name": "Python 3",
   "language": "python",
   "name": "python3"
  },
  "language_info": {
   "codemirror_mode": {
    "name": "ipython",
    "version": 3
   },
   "file_extension": ".py",
   "mimetype": "text/x-python",
   "name": "python",
   "nbconvert_exporter": "python",
   "pygments_lexer": "ipython3",
   "version": "3.7.4"
  }
 },
 "nbformat": 4,
 "nbformat_minor": 2
}
